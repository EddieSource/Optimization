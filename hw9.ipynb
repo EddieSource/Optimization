{
 "cells": [
  {
   "cell_type": "code",
   "execution_count": 1,
   "id": "adcbdb2c-6d5d-43bd-ab4a-89e97a64171f",
   "metadata": {},
   "outputs": [],
   "source": [
    "import pandas as pd\n",
    "import numpy as np\n",
    "from sklearn.svm import LinearSVC\n",
    "from sklearn import metrics\n",
    "from sklearn import datasets\n",
    "from numpy.linalg import norm, inv\n",
    "from sklearn import model_selection"
   ]
  },
  {
   "cell_type": "code",
   "execution_count": 2,
   "id": "63fe792b-19fc-45ce-992c-f392c2038dde",
   "metadata": {},
   "outputs": [],
   "source": [
    "data = datasets.load_iris()\n",
    "X = data.data\n",
    "y = data.target\n",
    "\n",
    "# make this a binary case and easier and only use first 2 classes and first 2 features\n",
    "X = X[y != 2, :2]\n",
    "\n",
    "y = data.target\n",
    "y = y[y != 2]\n",
    "\n",
    "# convert it to -1 and 1 cases for my own method implementation\n",
    "y[y==0] = -1\n",
    "\n",
    "# normalize them to have them in the same scale\n",
    "X = (X - np.mean(X, axis=0))/np.std(X, axis=0)\n",
    "\n",
    "# split our train-test set\n",
    "xTrain, xTest, yTrain, yTest = model_selection.train_test_split(X, y, test_size=0.2, random_state=0)"
   ]
  },
  {
   "cell_type": "markdown",
   "id": "168291a7-7a7b-4557-882a-cb5cd04744a2",
   "metadata": {},
   "source": [
    "# Sklearn Method"
   ]
  },
  {
   "cell_type": "code",
   "execution_count": 3,
   "id": "a58abf8f-6278-4eb4-baa4-8e4a92d2832f",
   "metadata": {},
   "outputs": [
    {
     "data": {
      "text/plain": [
       "1.0"
      ]
     },
     "execution_count": 3,
     "metadata": {},
     "output_type": "execute_result"
    }
   ],
   "source": [
    "# sklearn implementation\n",
    "svm = LinearSVC(dual = False).fit(xTrain, yTrain)\n",
    "yPred = svm.predict(xTest)\n",
    "accuracy = metrics.accuracy_score(yTest, yPred)\n",
    "accuracy"
   ]
  },
  {
   "cell_type": "markdown",
   "id": "c3e7e846-c6de-4611-9dbd-7855502af915",
   "metadata": {},
   "source": [
    "It has an accuracy of 100%"
   ]
  },
  {
   "cell_type": "markdown",
   "id": "801c943f-a6b2-4c69-a86b-355e37487aea",
   "metadata": {},
   "source": [
    "# My Method"
   ]
  },
  {
   "cell_type": "code",
   "execution_count": 4,
   "id": "29e569d8-f696-4980-8164-e217e24071cf",
   "metadata": {},
   "outputs": [],
   "source": [
    "# find D as I explain in my hw pdf\n",
    "D = np.zeros((xTrain.shape[0], xTrain.shape[0]))\n",
    "for i in range(D.shape[0]):\n",
    "    for j in range(D.shape[1]): \n",
    "        D[i,j] = yTrain[i]*yTrain[j]*xTrain[i].T@xTrain[j]\n",
    "\n",
    "f = lambda x: 1/2*x.T@D@x - x.T*np.ones(x.shape[0])\n",
    "gradf = lambda x: D@x-np.ones((x.shape[0]))\n",
    "hessf = lambda x: D"
   ]
  },
  {
   "cell_type": "code",
   "execution_count": 5,
   "id": "cf108ec1-1100-42fc-96b7-d82a270ac713",
   "metadata": {},
   "outputs": [],
   "source": [
    "# regular term, align with the sklearn linear svc default slack value of 1\n",
    "C = 1\n",
    "\n",
    "eq_A = yTrain.T.reshape(1,-1) #dimension: 1*n\n",
    "eq_b = np.zeros((1,1)) #dimension: 1\n",
    "\n",
    "# inequality constraint\n",
    "ineq_f = lambda x: np.concatenate((x-C*np.ones(x.shape[0]), -x), axis=0) #dimension: 2*n\n",
    "ineq_df = lambda x: np.concatenate((np.diag(np.ones(x.shape[0])), np.diag(-np.ones(x.shape[0]))),axis=0) #dimension: 2n*n"
   ]
  },
  {
   "cell_type": "code",
   "execution_count": 6,
   "id": "6942d39a-156d-4b17-b0ad-8190e34a9da1",
   "metadata": {},
   "outputs": [],
   "source": [
    "# some hyper parameters\n",
    "t = 4\n",
    "tol = 1e-8\n",
    "maxIter = 100 # max iterations\n",
    "i = 0 # number of iteraitons\n",
    "\n",
    "# initial iterior point\n",
    "x_k = 0.01*np.ones(xTrain.shape[0]) #alpha\n",
    "l_k = np.ones(xTrain.shape[0]*2) #lambda\n",
    "n_k = 1 #nu"
   ]
  },
  {
   "cell_type": "code",
   "execution_count": 7,
   "id": "573f46a1-2691-49a7-9133-f3b33ebc06be",
   "metadata": {},
   "outputs": [],
   "source": [
    "# Define residual function\n",
    "r_1 = lambda x,l,n: gradf(x) + ineq_df(x).T@l + (eq_A.T*n).reshape(-1);\n",
    "r_2 = lambda x,l,n: -np.diag(l)@ineq_f(x) - np.ones(l.shape[0])/t;\n",
    "r_3 = lambda x,l,n: (eq_A@x - eq_b).reshape(-1);\n",
    "res = lambda x,l,n: np.concatenate((r_1(x,l,n),r_2(x,l,n),r_3(x,l,n)),axis=0)"
   ]
  },
  {
   "cell_type": "code",
   "execution_count": 8,
   "id": "3e3c48e2-4000-433d-8336-02bdc5fd91bb",
   "metadata": {},
   "outputs": [],
   "source": [
    "def lineSearch(dX,dL,dN): \n",
    "    maxIter = 20\n",
    "    alpha = 1\n",
    "    beta = 0.7\n",
    "    i = 0 #number of iterations\n",
    "    while(i < maxIter):\n",
    "        if ((max(ineq_f(x_k + alpha*dX)) <= 0) and (norm(res(x_k+alpha*dX, l_k+alpha*dL, n_k+alpha*dN)) <= (1 - 0.1*alpha)*norm(res_k))):\n",
    "            break\n",
    "        else:      \n",
    "            alpha *= beta;\n",
    "            i += 1;\n",
    "    return alpha"
   ]
  },
  {
   "cell_type": "code",
   "execution_count": 9,
   "id": "fc13a275-1f4f-4f8f-8cdb-8c254a87bd06",
   "metadata": {},
   "outputs": [],
   "source": [
    "while (i < maxIter): \n",
    "    # Compute residual at current iteration\n",
    "    res_k = res(x_k, l_k, n_k) \n",
    "    if(norm(res_k) < tol): \n",
    "        break \n",
    "    first_row = np.concatenate((hessf(x_k),ineq_df(x_k).T,eq_A.T),axis=1)\n",
    "    second_row = np.concatenate((-np.diag(l_k)@ineq_df(x_k), -np.diag(ineq_f(x_k)), np.zeros((l_k.shape[0], 1))),axis=1)\n",
    "    third_row = np.concatenate((eq_A,np.zeros((1, l_k.shape[0])), np.zeros((1, 1))),axis=1)\n",
    "    # Hessian matrix of linear func is the zero matrix\n",
    "    dY = -inv(np.concatenate((first_row,second_row,third_row),axis=0))@res_k;\n",
    "    dX = dY[0:x_k.shape[0]] \n",
    "    dL = dY[x_k.shape[0]:x_k.shape[0]*3]\n",
    "    dN = dY[x_k.shape[0]*3:x_k.shape[0]*3 + 1]\n",
    "    alpha = lineSearch(dX,dL,dN)\n",
    "    x_k = x_k+alpha*dX\n",
    "    l_k = l_k+alpha*dL\n",
    "    n_k = n_k+alpha*dN\n",
    "    i += 1\n",
    "    "
   ]
  },
  {
   "cell_type": "code",
   "execution_count": 10,
   "id": "ea0745ca-70b6-40d6-ab7c-57a1c389adba",
   "metadata": {},
   "outputs": [
    {
     "data": {
      "text/plain": [
       "array([ 6.47000886, -6.53086837])"
      ]
     },
     "execution_count": 10,
     "metadata": {},
     "output_type": "execute_result"
    }
   ],
   "source": [
    "# recover W using x_k\n",
    "W = np.zeros(2)\n",
    "W[0] = sum(x_k*yTrain*xTrain[:,0])\n",
    "W[1] = sum(x_k*yTrain*xTrain[:,1])\n",
    "W"
   ]
  },
  {
   "cell_type": "code",
   "execution_count": 11,
   "id": "987f5b51-80ce-4fa9-88a3-75ec2c3c7dd0",
   "metadata": {},
   "outputs": [
    {
     "data": {
      "text/plain": [
       "-0.11921465233075304"
      ]
     },
     "execution_count": 11,
     "metadata": {},
     "output_type": "execute_result"
    }
   ],
   "source": [
    "# calculate bias for W.T@x+b\n",
    "b = np.mean(yTrain-xTrain@W.T)\n",
    "b"
   ]
  },
  {
   "cell_type": "code",
   "execution_count": 12,
   "id": "5ea82273-c213-4e2e-8f52-7e2d0bc25d87",
   "metadata": {},
   "outputs": [],
   "source": [
    "# predict class y for the xTest using W and bias\n",
    "yPred = np.zeros(xTest.shape[0])\n",
    "z = xTest@W.T+b\n",
    "yPred[z < 0] = -1\n",
    "yPred[z > 0] = 1"
   ]
  },
  {
   "cell_type": "code",
   "execution_count": 13,
   "id": "a070c585-cacd-4f04-9c55-7a1901f39201",
   "metadata": {},
   "outputs": [
    {
     "data": {
      "text/plain": [
       "1.0"
      ]
     },
     "execution_count": 13,
     "metadata": {},
     "output_type": "execute_result"
    }
   ],
   "source": [
    "# see results\n",
    "accuracy = metrics.accuracy_score(yTest, yPred)\n",
    "accuracy"
   ]
  },
  {
   "cell_type": "markdown",
   "id": "10ddfd0e-6826-4040-b6e6-21d94b27e383",
   "metadata": {},
   "source": [
    "Both my svm method and the scikit learn svm method have the same accuracy of 100%!!!"
   ]
  }
 ],
 "metadata": {
  "kernelspec": {
   "display_name": "Python 3 (ipykernel)",
   "language": "python",
   "name": "python3"
  },
  "language_info": {
   "codemirror_mode": {
    "name": "ipython",
    "version": 3
   },
   "file_extension": ".py",
   "mimetype": "text/x-python",
   "name": "python",
   "nbconvert_exporter": "python",
   "pygments_lexer": "ipython3",
   "version": "3.8.12"
  }
 },
 "nbformat": 4,
 "nbformat_minor": 5
}
